{
  "nbformat": 4,
  "nbformat_minor": 0,
  "metadata": {
    "colab": {
      "provenance": []
    },
    "kernelspec": {
      "name": "python3",
      "display_name": "Python 3"
    },
    "language_info": {
      "name": "python"
    }
  },
  "cells": [
    {
      "cell_type": "markdown",
      "source": [
        "\n",
        "**Recursive Backtracking Sudoku Solver Python Implementation**\n",
        "*   Each of the digits 1-9 must occur exactly once in each row.\n",
        "*   Each of the digits 1-9 must occur exactly once in each column.\n",
        "*   Each of the digits 1-9 must occur exactly once in each of the 9 3x3 sub-boxes of the grid.\n",
        "\n",
        "9x9 puzzle '0' is empty\n",
        "  board=[\n",
        "        ['5', '3', '0', '0', '7', '0', '0', '0', '0'],\n",
        "        ['6', '0', '0', '1', '9', '5', '0', '0', '0'],\n",
        "        ['0', '9', '8', '0','0', '0',  '0', '6', '0'],\n",
        "        ['8', '0' ,'0', '0', '6', '0', '0', '0', '3'],\n",
        "        ['4', '0', '0', '8', '0', '3', '0', '0', '1'],\n",
        "        ['7', '0', '0', '0', '2', '0', '0', '0', '6'],\n",
        "        ['0', '6', '0', '0', '0', '0', '2', '8', '0'],\n",
        "        ['0', '0', '0', '4', '1', '9', '0', '0', '5'],\n",
        "        ['0', '0', '0', '0', '8', '0', '0', '7', '9']\n",
        "    ]  "
      ],
      "metadata": {
        "id": "N6m-K9m2s3AA"
      }
    },
    {
      "cell_type": "code",
      "execution_count": null,
      "metadata": {
        "colab": {
          "base_uri": "https://localhost:8080/"
        },
        "id": "z5wytyQ-son7",
        "outputId": "4cb01380-a3de-43a7-e012-8398ea07fd43"
      },
      "outputs": [
        {
          "output_type": "stream",
          "name": "stdout",
          "text": [
            "['5', '3', '4', '6', '7', '8', '9', '1', '2']\n",
            "['6', '7', '2', '1', '9', '5', '3', '4', '8']\n",
            "['1', '9', '8', '3', '4', '2', '5', '6', '7']\n",
            "['8', '5', '9', '7', '6', '1', '4', '2', '3']\n",
            "['4', '2', '6', '8', '5', '3', '7', '9', '1']\n",
            "['7', '1', '3', '9', '2', '4', '8', '5', '6']\n",
            "['9', '6', '1', '5', '3', '7', '2', '8', '4']\n",
            "['2', '8', '7', '4', '1', '9', '6', '3', '5']\n",
            "['3', '4', '5', '2', '8', '6', '1', '7', '9']\n"
          ]
        }
      ],
      "source": [
        "class Solution:\n",
        "    def solveSudoku(self, board):\n",
        "      #numbers are strings\n",
        "      #using recrusive backtracking\n",
        "        def solve():\n",
        "            for row in range(9):\n",
        "                for col in range(9):\n",
        "                    # If the cell is empty (denoted by '0')\n",
        "                    if board[row][col] == '0':\n",
        "                      # Try placing numbers 1-9\n",
        "                        for num in '123456789':\n",
        "                            if is_valid(row, col, num):\n",
        "                                board[row][col] = num\n",
        "                                if solve():\n",
        "                                    return True\n",
        "                                # Backtrack if placing the number doesn't work\n",
        "                                board[row][col] = '0'\n",
        "                        # If no valid number can be placed, return False\n",
        "                        return False\n",
        "            return True\n",
        "\n",
        "        def is_valid(row, col, num):\n",
        "            #check if the number is in the same row or column\n",
        "            for i in range(9):\n",
        "                if board[row][i] == num or board[i][col] == num:\n",
        "                    return False\n",
        "            #check if the number is in the same 3x3 subgrid\n",
        "            start_row, start_col = 3 * (row // 3), 3 * (col // 3)\n",
        "            for i in range(start_row, start_row + 3):\n",
        "                for j in range(start_col, start_col + 3):\n",
        "                    if board[i][j] == num:\n",
        "                        return False\n",
        "            return True\n",
        "        # Start solving the Sudoku\n",
        "        solve()\n",
        "\n",
        "if __name__ == '__main__':\n",
        "  solver=Solution()\n",
        "  board=[\n",
        "        ['5', '3', '0', '0', '7', '0', '0', '0', '0'],\n",
        "        ['6', '0', '0', '1', '9', '5', '0', '0', '0'],\n",
        "        ['0', '9', '8', '0','0', '0',  '0', '6', '0'],\n",
        "        ['8', '0' ,'0', '0', '6', '0', '0', '0', '3'],\n",
        "        ['4', '0', '0', '8', '0', '3', '0', '0', '1'],\n",
        "        ['7', '0', '0', '0', '2', '0', '0', '0', '6'],\n",
        "        ['0', '6', '0', '0', '0', '0', '2', '8', '0'],\n",
        "        ['0', '0', '0', '4', '1', '9', '0', '0', '5'],\n",
        "        ['0', '0', '0', '0', '8', '0', '0', '7', '9']\n",
        "    ]\n",
        "  solver.solveSudoku(board)\n",
        "  for row in board:\n",
        "      print(row)"
      ]
    },
    {
      "cell_type": "markdown",
      "source": [
        "**DO NOT DELETE**\n",
        "INTIALIZING CUDA/C++ STUFF"
      ],
      "metadata": {
        "id": "-THswYce7aka"
      }
    },
    {
      "cell_type": "code",
      "source": [
        "# make sure CUDA is installed\n",
        "!nvcc --version\n",
        "\n",
        "# make sure you have a GPU runtime (if this fails go to runtime -> change runtime type)\n",
        "!nvidia-smi\n",
        "\n",
        "# Install some magic to run and save .cu C++ CUDA programs\n",
        "!curl -o ./gpu_runner.py https://raw.githubusercontent.com/COMS-BC3159-F24/helpers/main/gpu_runner.py\n",
        "%load_ext gpu_runner\n",
        "\n",
        "# to learn about how to do more fancy things with CUDA using this API see:\n",
        "# https://nvcc4jupyter.readthedocs.io/en/latest/index.html"
      ],
      "metadata": {
        "colab": {
          "base_uri": "https://localhost:8080/"
        },
        "id": "JM_A-uOj7ims",
        "outputId": "0de927b9-e1aa-4840-fbda-dc163bb29381"
      },
      "execution_count": null,
      "outputs": [
        {
          "output_type": "stream",
          "name": "stdout",
          "text": [
            "nvcc: NVIDIA (R) Cuda compiler driver\n",
            "Copyright (c) 2005-2023 NVIDIA Corporation\n",
            "Built on Tue_Aug_15_22:02:13_PDT_2023\n",
            "Cuda compilation tools, release 12.2, V12.2.140\n",
            "Build cuda_12.2.r12.2/compiler.33191640_0\n",
            "/bin/bash: line 1: nvidia-smi: command not found\n",
            "  % Total    % Received % Xferd  Average Speed   Time    Time     Time  Current\n",
            "                                 Dload  Upload   Total   Spent    Left  Speed\n",
            "100  3082  100  3082    0     0  14010      0 --:--:-- --:--:-- --:--:-- 14009\n"
          ]
        }
      ]
    },
    {
      "cell_type": "markdown",
      "source": [
        "**CUDA C++ Backtracking**"
      ],
      "metadata": {
        "id": "rwVSeeig7AmR"
      }
    },
    {
      "cell_type": "code",
      "source": [
        "%%gpurun -n cuda_mat_inv.cu\n",
        "# include <stdio.h>\n",
        "\n",
        "__device__\n",
        "\n",
        "#GPU kernel\n",
        "#Set up shared memory, clean up shared memory\n",
        "__global__\n",
        "\n",
        "#Host function\n",
        "#set up GPU memory, run the kernel, clean up GPU memory\n",
        "__host__"
      ],
      "metadata": {
        "id": "6JfDOPVF6_qU"
      },
      "execution_count": null,
      "outputs": []
    },
    {
      "cell_type": "code",
      "source": [
        "def is_valid(board, row, col, value):\n",
        "    \"\"\"\n",
        "    Check if placing 'value' in board[row][col] is valid.\n",
        "    \"\"\"\n",
        "    # Check the row\n",
        "    if value in board[row]:\n",
        "        return False\n",
        "\n",
        "    # Check the column\n",
        "    if value in [board[i][col] for i in range(9)]:\n",
        "        return False\n",
        "\n",
        "    # Check the 3x3 subgrid\n",
        "    start_row, start_col = 3 * (row // 3), 3 * (col // 3)\n",
        "    for i in range(start_row, start_row + 3):\n",
        "        for j in range(start_col, start_col + 3):\n",
        "            if board[i][j] == value:\n",
        "                return False\n",
        "\n",
        "    return True\n",
        "\n",
        "\n",
        "def find_empty_space(board):\n",
        "    \"\"\"\n",
        "    Find the next empty space on the board.\n",
        "    Returns (row, col) of the empty space, or None if the board is full.\n",
        "    \"\"\"\n",
        "    for row in range(9):\n",
        "        for col in range(9):\n",
        "            if board[row][col] == 0:  # Assuming 0 represents an empty cell\n",
        "                return row, col\n",
        "    return None\n",
        "\n",
        "\n",
        "def solve_sudoku(board):\n",
        "    \"\"\"\n",
        "    Solve the Sudoku board using backtracking.\n",
        "    \"\"\"\n",
        "    empty_space = find_empty_space(board)\n",
        "    if not empty_space:\n",
        "        return True  # No empty spaces left, the board is solved\n",
        "\n",
        "    row, col = empty_space\n",
        "\n",
        "    for value in range(1, 10):\n",
        "        if is_valid(board, row, col, value):\n",
        "            # Place the value\n",
        "            board[row][col] = value\n",
        "\n",
        "            # Recursively try to solve the rest of the board\n",
        "            if solve_sudoku(board):\n",
        "                return True\n",
        "\n",
        "            # Undo the choice (backtrack)\n",
        "            board[row][col] = 0\n",
        "\n",
        "    return False  # Trigger backtracking\n",
        "\n",
        "\n",
        "# Example Sudoku board (0 represents empty spaces)\n",
        "sudoku_board = [\n",
        "    [5, 3, 0, 0, 7, 0, 0, 0, 0],\n",
        "    [6, 0, 0, 1, 9, 5, 0, 0, 0],\n",
        "    [0, 9, 8, 0, 0, 0, 0, 6, 0],\n",
        "    [8, 0, 0, 0, 6, 0, 0, 0, 3],\n",
        "    [4, 0, 0, 8, 0, 3, 0, 0, 1],\n",
        "    [7, 0, 0, 0, 2, 0, 0, 0, 6],\n",
        "    [0, 6, 0, 0, 0, 0, 2, 8, 0],\n",
        "    [0, 0, 0, 4, 1, 9, 0, 0, 5],\n",
        "    [0, 0, 0, 0, 8, 0, 0, 7, 9]\n",
        "]\n",
        "\n",
        "if solve_sudoku(sudoku_board):\n",
        "    for row in sudoku_board:\n",
        "        print(row)\n",
        "else:\n",
        "    print(\"No solution exists.\")"
      ],
      "metadata": {
        "colab": {
          "base_uri": "https://localhost:8080/"
        },
        "id": "iXbikgwt88R9",
        "outputId": "d91fa405-efcf-4410-f729-0f314307c71e"
      },
      "execution_count": 5,
      "outputs": [
        {
          "output_type": "stream",
          "name": "stdout",
          "text": [
            "[5, 3, 4, 6, 7, 8, 9, 1, 2]\n",
            "[6, 7, 2, 1, 9, 5, 3, 4, 8]\n",
            "[1, 9, 8, 3, 4, 2, 5, 6, 7]\n",
            "[8, 5, 9, 7, 6, 1, 4, 2, 3]\n",
            "[4, 2, 6, 8, 5, 3, 7, 9, 1]\n",
            "[7, 1, 3, 9, 2, 4, 8, 5, 6]\n",
            "[9, 6, 1, 5, 3, 7, 2, 8, 4]\n",
            "[2, 8, 7, 4, 1, 9, 6, 3, 5]\n",
            "[3, 4, 5, 2, 8, 6, 1, 7, 9]\n"
          ]
        }
      ]
    }
  ]
}